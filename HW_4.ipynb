{
 "cells": [
  {
   "cell_type": "code",
   "execution_count": 1,
   "id": "a0504e5c",
   "metadata": {
    "scrolled": true
   },
   "outputs": [
    {
     "ename": "SyntaxError",
     "evalue": "(unicode error) 'unicodeescape' codec can't decode bytes in position 2-3: truncated \\UXXXXXXXX escape (Temp/ipykernel_18008/2610434080.py, line 9)",
     "output_type": "error",
     "traceback": [
      "\u001b[1;36m  File \u001b[1;32m\"C:\\Users\\ofek1\\AppData\\Local\\Temp/ipykernel_18008/2610434080.py\"\u001b[1;36m, line \u001b[1;32m9\u001b[0m\n\u001b[1;33m    data = open(\"C:\\Users\\ofek1\\Downloads\\dests (1).txt\")\u001b[0m\n\u001b[1;37m                                                        ^\u001b[0m\n\u001b[1;31mSyntaxError\u001b[0m\u001b[1;31m:\u001b[0m (unicode error) 'unicodeescape' codec can't decode bytes in position 2-3: truncated \\UXXXXXXXX escape\n"
     ]
    }
   ],
   "source": [
    "# Ofek Peretz 315767731\n",
    "import json\n",
    "import requests\n",
    "\n",
    "#A\n",
    "api_ofek = \"dfdfAnckcaksjncksfkcxmkmxcakldcf1sfskjndfdffdcj\"\n",
    "\n",
    "\n",
    "data = open(\"C:\\Users\\ofek1\\Downloads\\dests (1).txt\")\n",
    "mylist = []\n",
    "for city in data:\n",
    "    mylist.append(city.strip())\n",
    "print(mylist)    \n",
    "\n",
    "urls1 = []\n",
    "urls2 = []\n",
    "for city in mylist:\n",
    "    urls2.append(\"https://maps.googleapis.com/maps/api/geocode/json?address=%s&key=%s\"%(city,api_ofek))\n",
    "    urls1.append(\"https://maps.googleapis.com/maps/api/distancematrix/json?origins=Jerusalem&destinations=%s&key=%s\"%(city,api_ofek))\n",
    "        \n",
    "\n",
    "dis_ma = []\n",
    "for i in urls1:\n",
    "    dis_ma.append(requests.get(i).json())  \n",
    "\n",
    "geo = []\n",
    "for i in urls2:\n",
    "    geo.append(requests.get(i).json())\n",
    "    \n",
    "answer = {}\n",
    "for i in range(5):\n",
    "    answer[i] = (dis_ma[i]['rows'][0]['elements'][0]['distance']['text'],\n",
    "    dis_ma[i]['rows'][0]['elements'][0]['duration']['text'],geo[i]['results'][0]['geometry']['location']['lng'],\n",
    "    geo[i]['results'][0]['geometry']['location']['lat'])   \n",
    "    answer[mylist[i]] = answer.pop(i)\n",
    "print(answer)\n",
    "\n",
    "\n",
    "for i in mylist:\n",
    "    print(i ,'\\ndistance : ', answer[i][0] , '\\nduration : ', answer[i][1], '\\nLongitude : ', answer[i][2], '\\nLatitude : ', answer[i][3], '\\n')\n",
    "    \n",
    "\n",
    "#B\n",
    "mylist2 = []\n",
    "for i in mylist2:\n",
    "    distance = answer[i][0].split()\n",
    "    mylist2.append(int(distance[0].replace(',','')))\n",
    "\n",
    "far_list = []\n",
    "for i in range(3):\n",
    "    far_list.append(max(mylist2)) \n",
    "    mylist2.remove(max(mylist2))\n",
    "\n",
    "mylist2 = []\n",
    "for i in mylist:\n",
    "    distance = answer[i][0].split()\n",
    "    mylist2.append(int(distance[0].replace(',','')))\n",
    "\n",
    "farest_city = []\n",
    "for i in range(3):\n",
    "    for j in range(len(mylist2)):\n",
    "        if far_list[i] == mylist2[j]:\n",
    "            farest_city.mylist2(mylist[j])\n",
    "print('Three farest cities are: ', farest_city)\n"
   ]
  },
  {
   "cell_type": "code",
   "execution_count": null,
   "id": "9840fdfe",
   "metadata": {},
   "outputs": [],
   "source": []
  }
 ],
 "metadata": {
  "kernelspec": {
   "display_name": "Python 3 (ipykernel)",
   "language": "python",
   "name": "python3"
  },
  "language_info": {
   "codemirror_mode": {
    "name": "ipython",
    "version": 3
   },
   "file_extension": ".py",
   "mimetype": "text/x-python",
   "name": "python",
   "nbconvert_exporter": "python",
   "pygments_lexer": "ipython3",
   "version": "3.9.7"
  }
 },
 "nbformat": 4,
 "nbformat_minor": 5
}
